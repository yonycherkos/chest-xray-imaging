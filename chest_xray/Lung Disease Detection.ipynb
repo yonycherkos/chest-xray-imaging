{
 "cells": [
  {
   "cell_type": "markdown",
   "metadata": {},
   "source": [
    "# Part - 1: Prepare Dataset"
   ]
  },
  {
   "cell_type": "code",
   "execution_count": 1,
   "metadata": {},
   "outputs": [],
   "source": [
    "# import dataset preparation helper functions\n",
    "from build_dataset import *"
   ]
  },
  {
   "cell_type": "code",
   "execution_count": null,
   "metadata": {},
   "outputs": [],
   "source": [
    "# chest_xrays14\n",
    "chest_xrays14_df = chest_xrays14()\n",
    "print(\"[INFO] chext_xrays14_df count: \", chest_xrays14_df.shape[0])\n",
    "print(chest_xrays14_df.sample(3))"
   ]
  },
  {
   "cell_type": "code",
   "execution_count": null,
   "metadata": {},
   "outputs": [],
   "source": [
<<<<<<< HEAD
    "# chest_xrays4\n",
    "chest_xrays4_df = chest_xrays4(chest_xrays14_df)\n",
    "print(\"[INFO] chext_xrays4_df count: \", chest_xrays4_df.shape[0])\n",
    "print(chest_xrays4_df.sample(3))"
   ]
  },
  {
   "cell_type": "code",
   "execution_count": null,
   "metadata": {},
   "outputs": [],
   "source": [
=======
>>>>>>> master
    "# TB_chest_xrays\n",
    "TB_chest_xrays_df = TB_chest_xrays()\n",
    "print(\"[INFO] TB_chest_xrays_df count: \", TB_chest_xrays_df.shape[0])\n",
    "print(TB_chest_xrays_df.sample(3))"
   ]
  },
  {
   "cell_type": "code",
   "execution_count": null,
   "metadata": {},
   "outputs": [],
   "source": [
<<<<<<< HEAD
    "# chest_xrays5\n",
    "chest_xrays5_df = chest_xrays5(chest_xrays4_df, TB_chest_xrays_df)\n",
    "visualize_class_count(chest_xrays5_df, config.CLASS_NAMES)\n",
    "print(\"[INFO] chest_xrays5_df count: \", chest_xrays5_df.shape[0])\n",
    "print(chest_xrays5_df.sample(3))\n",
    "print(chest_xrays5_df.info())"
=======
    "# chest_xrays15\n",
    "chest_xrays15_df = chest_xrays15(chest_xrays14_df, TB_chest_xrays_df)\n",
    "visualize_class_count(chest_xrays15_df, config.CLASS_NAMES)\n",
    "print(\"[INFO] chest_xrays15_df count: \", chest_xrays15_df.shape[0])\n",
    "print(chest_xrays15_df.sample(3))\n",
    "print(chest_xrays15_df.info())"
>>>>>>> master
   ]
  },
  {
   "cell_type": "code",
   "execution_count": null,
   "metadata": {},
   "outputs": [],
   "source": [
    "# split the dataset into 90% training, 5% validation and 5% test\n",
    "(train_df, val_df, test_df) = train_validation_test_split(chest_xrays15_df)"
   ]
  },
  {
   "cell_type": "code",
   "execution_count": null,
   "metadata": {},
   "outputs": [],
   "source": [
    "# move the image from 'chest_xrays/' and 'tuberclusosis/'to train, validtion, and test paths.\n",
    "move_images(train_df, val_df, test_df)"
   ]
  },
  {
   "cell_type": "markdown",
   "metadata": {},
   "source": [
    "# Part - 2: Build and Train a model"
   ]
  },
  {
   "cell_type": "code",
   "execution_count": 2,
   "metadata": {},
   "outputs": [],
   "source": [
    "# import train helper class\n",
    "from train import Train"
   ]
  },
  {
   "cell_type": "code",
   "execution_count": null,
   "metadata": {},
   "outputs": [],
   "source": [
    "# create and initialize Train object\n",
    "train = Train()"
   ]
  },
  {
   "cell_type": "code",
   "execution_count": null,
   "metadata": {},
   "outputs": [],
   "source": [
    "# build the model\n",
    "model = train.build_model(show_summary=True)"
   ]
  },
  {
   "cell_type": "code",
   "execution_count": null,
   "metadata": {},
   "outputs": [],
   "source": [
    "# train and val datagenrator\n",
    "(train_datagen, val_datagen) = train.data_generator()"
   ]
  },
  {
   "cell_type": "code",
   "execution_count": null,
   "metadata": {},
   "outputs": [],
   "source": [
    "# training callbacks\n",
    "callbacks = train.callbacks()"
   ]
  },
  {
   "cell_type": "code",
   "execution_count": null,
   "metadata": {},
   "outputs": [],
   "source": [
    "# train the modela\n",
    "train.train(model, train_datagen, val_datagen, callbacks)"
   ]
  },
  {
   "cell_type": "markdown",
   "metadata": {},
   "source": [
    "# Part - 3: Test Model Performance"
   ]
  },
  {
   "cell_type": "code",
   "execution_count": 3,
   "metadata": {},
   "outputs": [],
   "source": [
    "# import test helper class\n",
    "from test import Test"
   ]
  },
  {
   "cell_type": "code",
   "execution_count": null,
   "metadata": {},
   "outputs": [],
   "source": [
    "# load trained model\n",
    "print(\"[INFO] loading trained model ....\")\n",
    "model = load_model(config.MODEL_PATH)"
   ]
  },
  {
   "cell_type": "code",
   "execution_count": null,
   "metadata": {},
   "outputs": [],
   "source": [
    "# create and initialize Test object\n",
    "test = Test()"
   ]
  },
  {
   "cell_type": "code",
   "execution_count": null,
   "metadata": {},
   "outputs": [],
   "source": [
    "# test data generator\n",
    "test_datagen = test.data_generator()"
   ]
  },
  {
   "cell_type": "code",
   "execution_count": null,
   "metadata": {},
   "outputs": [],
   "source": [
    "# testing\n",
    "print(\"[INFO] evaluating model performance...\")\n",
    "evaluation_result = test.test(model, test_datagen)"
   ]
  },
  {
   "cell_type": "code",
   "execution_count": null,
   "metadata": {},
   "outputs": [],
   "source": [
    "# show the classification report\n",
    "print(evaluation_result[\"report\"])"
   ]
  },
  {
   "cell_type": "code",
   "execution_count": null,
   "metadata": {},
   "outputs": [],
   "source": [
    "# show the confusion matrix, accuracy, sensitivity, and specificity\n",
    "print(evaluation_result[\"cm\"])\n",
    "print(\"accuracy: {:.4f}\".format(evaluation_result[\"accuracy\"]))\n",
    "print(\"sensitivity: {:.4f}\".format(evaluation_result[\"sensitivity\"]))\n",
    "print(\"specificity: {:.4f}\".format(evaluation_result[\"specificity\"]))"
   ]
  },
  {
   "cell_type": "code",
   "execution_count": null,
   "metadata": {},
   "outputs": [],
   "source": [
    "# show the mean auroc score\n",
    "print(evaluation_result[\"aurocs\"])\n",
    "print(\"-----------------------------------------------------\")\n",
    "print(\"mean_auroc {}\".format(evaluation_result[\"mean_auroc\"]))"
   ]
  },
  {
   "cell_type": "markdown",
   "metadata": {},
   "source": [
    "# Part - 4: Inference"
   ]
  },
  {
   "cell_type": "code",
   "execution_count": null,
   "metadata": {},
   "outputs": [],
   "source": [
    "# load trained model\n",
    "print(\"[INFO] loading trained model...\")\n",
    "model = load_model(config.MODEL_PATH)"
   ]
  },
  {
   "cell_type": "code",
   "execution_count": null,
   "metadata": {},
   "outputs": [],
   "source": [
    "# process image before prediction\n",
    "image_path = \"examples/pneumonia.png\"\n",
    "image = cv2.imread(args[\"image\"])\n",
    "processed_image = preprocess_image(image)"
   ]
  },
  {
   "cell_type": "code",
   "execution_count": null,
   "metadata": {},
   "outputs": [],
   "source": [
    "# prediction on the processed sample image\n",
<<<<<<< HEAD
    "prediction_map = predict(model, processed_image)\n",
=======
    "prediction_map = predict(model, image)\n",
>>>>>>> master
    "for (key, value) in prediction_map.items():\n",
    "    print(f\"{key}: {value}\")"
   ]
  },
  {
   "cell_type": "code",
   "execution_count": null,
   "metadata": {},
   "outputs": [],
   "source": [
    "# generate heatmap\n",
    "heatmap_img = heatmap.create_heatmap(model, image, processed_image)\n",
    "cv2.imshow(\"heatmap image\", heatmap_img)\n",
    "cv2.waitkey(0)"
   ]
  }
 ],
 "metadata": {
  "kernelspec": {
   "display_name": "Python 3",
   "language": "python",
   "name": "python3"
  },
  "language_info": {
   "codemirror_mode": {
    "name": "ipython",
    "version": 3
   },
   "file_extension": ".py",
   "mimetype": "text/x-python",
   "name": "python",
   "nbconvert_exporter": "python",
   "pygments_lexer": "ipython3",
   "version": "3.7.6"
  }
 },
 "nbformat": 4,
 "nbformat_minor": 4
}